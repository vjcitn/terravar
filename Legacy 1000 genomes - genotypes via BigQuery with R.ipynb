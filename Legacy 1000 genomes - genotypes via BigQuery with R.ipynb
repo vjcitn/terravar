{
 "cells": [
  {
   "cell_type": "markdown",
   "metadata": {},
   "source": [
    "# 1000 Genomes via bigrquery and dplyr\n",
    "\n",
    "This notebook illustrates access to genotype calls via BigQuery.  Extraction of a few genotype calls is illustrated.  Programming patterns that efficiently collect large numbers of genotypes for analysis are not yet identified.\n",
    "\n",
    "https://cloud.google.com/genomics/docs/how-tos/analyze-variants will have to be studied.  I have just used routine bigrquery programming to poke around here.  In the [VCF-based notebook](https://app.terra.bio/#workspaces/vince-fire-1/vince1kg/notebooks/launch/Tiny%20population%20stratification%20display.ipynb) it was fairly easy to get all the calls on a chromosomal region, to form a matrix to which PCA could be applied.  It would be nice to replicate that action in this framework."
   ]
  },
  {
   "cell_type": "markdown",
   "metadata": {},
   "source": [
    "## Setup\n",
    "\n",
    "\"First, be sure to run notebook **`R environment setup`** in this workspace.\" -- This follows advice in the terra playground."
   ]
  },
  {
   "cell_type": "code",
   "execution_count": 1,
   "metadata": {},
   "outputs": [
    {
     "name": "stderr",
     "output_type": "stream",
     "text": [
      "Skipping install of 'Ronaldo' from a github remote, the SHA1 (426459ff) has not changed since last install.\n",
      "  Use `force = TRUE` to force installation\n"
     ]
    }
   ],
   "source": [
    "install_if_missing <- function(packages) {\n",
    "    if (length(setdiff(packages, rownames(installed.packages()))) > 0) {\n",
    "        install.packages(setdiff(packages, rownames(installed.packages())))\n",
    "    }\n",
    "}\n",
    "\n",
    "install_if_missing(c('tidyverse', 'viridis', 'ggthemes', 'qwraps2', 'pryr', 'skimr',\n",
    "                     'testthat', 'reticulate', 'data.table', 'RCurl','stringr',\n",
    "                    'bigrquery'))\n",
    "\n",
    "devtools::install_github('DataBiosphere/ronaldo')"
   ]
  },
  {
   "cell_type": "markdown",
   "metadata": {},
   "source": [
    "Then in this section we:\n",
    "\n",
    "1. load the needed R packages\n",
    "2. set the project id of the cloud project to bill for queries to BigQuery\n",
    "3. authorize our bigquery client library to issue requests"
   ]
  },
  {
   "cell_type": "code",
   "execution_count": 2,
   "metadata": {},
   "outputs": [],
   "source": [
    "# Load the libraries into memory\n",
    "suppressPackageStartupMessages({\n",
    " library(bigrquery)\n",
    " library(dplyr)\n",
    " library(skimr)\n",
    " library(ggplot2)\n",
    "})"
   ]
  },
  {
   "cell_type": "code",
   "execution_count": 3,
   "metadata": {},
   "outputs": [],
   "source": [
    "# Authorize bigrquery client\n",
    "BILLING_PROJECT_ID <- Sys.getenv('GOOGLE_PROJECT')\n",
    "bigrquery::set_service_token(Ronaldo::getServiceAccountKey())"
   ]
  },
  {
   "cell_type": "markdown",
   "metadata": {},
   "source": [
    "## Connect to the human genome variants in BigQuery"
   ]
  },
  {
   "cell_type": "code",
   "execution_count": 4,
   "metadata": {},
   "outputs": [],
   "source": [
    "# Create a \"connection\" to a public BigQuery dataset.\n",
    "dbcon <- bigrquery::src_bigquery(project = 'bigquery-public-data',\n",
    "                                 dataset = 'human_genome_variants',\n",
    "                                 billing = BILLING_PROJECT_ID)\n",
    "                                 "
   ]
  },
  {
   "cell_type": "code",
   "execution_count": 5,
   "metadata": {},
   "outputs": [
    {
     "data": {
      "text/plain": [
       "src:  BigQueryConnection\n",
       "tbls: 1000_genomes_pedigree,\n",
       "  1000_genomes_phase_3_optimized_schema_variants_20150220,\n",
       "  1000_genomes_phase_3_variants_20150220, 1000_genomes_sample_info,\n",
       "  platinum_genomes_deepvariant_variants_20180823,\n",
       "  simons_genome_diversity_project_sample_attributes,\n",
       "  simons_genome_diversity_project_sample_metadata,\n",
       "  simons_genome_diversity_project_sample_variants"
      ]
     },
     "metadata": {},
     "output_type": "display_data"
    }
   ],
   "source": [
    "dbcon"
   ]
  },
  {
   "cell_type": "markdown",
   "metadata": {},
   "source": [
    "## Examine the catalog of variants, phase 3 vintage 2015"
   ]
  },
  {
   "cell_type": "code",
   "execution_count": 6,
   "metadata": {},
   "outputs": [
    {
     "data": {
      "text/plain": [
       "\u001b[90m# Source:   table<1000_genomes_phase_3_variants_20150220> [?? x 30]\u001b[39m\n",
       "\u001b[90m# Database: BigQueryConnection\u001b[39m\n",
       "   reference_name start_position end_position reference_bases alternate_bases\n",
       "   \u001b[3m\u001b[90m<chr>\u001b[39m\u001b[23m                   \u001b[3m\u001b[90m<int>\u001b[39m\u001b[23m        \u001b[3m\u001b[90m<int>\u001b[39m\u001b[23m \u001b[3m\u001b[90m<chr>\u001b[39m\u001b[23m           \u001b[3m\u001b[90m<list>\u001b[39m\u001b[23m         \n",
       "\u001b[90m 1\u001b[39m 1                      \u001b[4m1\u001b[24m\u001b[4m2\u001b[24m\u001b[4m4\u001b[24m852       \u001b[4m1\u001b[24m\u001b[4m2\u001b[24m\u001b[4m4\u001b[24m853 A               \u001b[90m<tibble [1 × 8\u001b[0m…\n",
       "\u001b[90m 2\u001b[39m 1                      \u001b[4m1\u001b[24m\u001b[4m2\u001b[24m\u001b[4m9\u001b[24m671       \u001b[4m1\u001b[24m\u001b[4m2\u001b[24m\u001b[4m9\u001b[24m672 A               \u001b[90m<tibble [1 × 8\u001b[0m…\n",
       "\u001b[90m 3\u001b[39m 1                       \u001b[4m5\u001b[24m\u001b[4m5\u001b[24m646        \u001b[4m5\u001b[24m\u001b[4m5\u001b[24m647 A               \u001b[90m<tibble [1 × 8\u001b[0m…\n",
       "\u001b[90m 4\u001b[39m 1                       \u001b[4m8\u001b[24m\u001b[4m5\u001b[24m106        \u001b[4m8\u001b[24m\u001b[4m5\u001b[24m107 A               \u001b[90m<tibble [1 × 8\u001b[0m…\n",
       "\u001b[90m 5\u001b[39m 1                      \u001b[4m5\u001b[24m\u001b[4m3\u001b[24m\u001b[4m2\u001b[24m446       \u001b[4m5\u001b[24m\u001b[4m3\u001b[24m\u001b[4m2\u001b[24m447 A               \u001b[90m<tibble [1 × 8\u001b[0m…\n",
       "\u001b[90m 6\u001b[39m 1                       \u001b[4m8\u001b[24m\u001b[4m4\u001b[24m699        \u001b[4m8\u001b[24m\u001b[4m4\u001b[24m700 A               \u001b[90m<tibble [1 × 8\u001b[0m…\n",
       "\u001b[90m 7\u001b[39m 1                      \u001b[4m5\u001b[24m\u001b[4m6\u001b[24m\u001b[4m6\u001b[24m059       \u001b[4m5\u001b[24m\u001b[4m6\u001b[24m\u001b[4m6\u001b[24m060 A               \u001b[90m<tibble [1 × 8\u001b[0m…\n",
       "\u001b[90m 8\u001b[39m 1                      \u001b[4m5\u001b[24m\u001b[4m9\u001b[24m\u001b[4m9\u001b[24m981       \u001b[4m5\u001b[24m\u001b[4m9\u001b[24m\u001b[4m9\u001b[24m982 A               \u001b[90m<tibble [1 × 8\u001b[0m…\n",
       "\u001b[90m 9\u001b[39m 1                      \u001b[4m2\u001b[24m\u001b[4m5\u001b[24m\u001b[4m1\u001b[24m664       \u001b[4m2\u001b[24m\u001b[4m5\u001b[24m\u001b[4m1\u001b[24m665 A               \u001b[90m<tibble [1 × 8\u001b[0m…\n",
       "\u001b[90m10\u001b[39m 1                      \u001b[4m2\u001b[24m\u001b[4m3\u001b[24m\u001b[4m5\u001b[24m067       \u001b[4m2\u001b[24m\u001b[4m3\u001b[24m\u001b[4m5\u001b[24m068 A               \u001b[90m<tibble [1 × 8\u001b[0m…\n",
       "\u001b[90m# … with more rows, and 25 more variables: names \u001b[3m\u001b[90m<list>\u001b[90m\u001b[23m, quality \u001b[3m\u001b[90m<dbl>\u001b[90m\u001b[23m,\n",
       "#   filter \u001b[3m\u001b[90m<list>\u001b[90m\u001b[23m, call \u001b[3m\u001b[90m<list>\u001b[90m\u001b[23m, CIEND \u001b[3m\u001b[90m<list>\u001b[90m\u001b[23m, CIPOS \u001b[3m\u001b[90m<list>\u001b[90m\u001b[23m, CS \u001b[3m\u001b[90m<chr>\u001b[90m\u001b[23m,\n",
       "#   IMPRECISE \u001b[3m\u001b[90m<lgl>\u001b[90m\u001b[23m, MC \u001b[3m\u001b[90m<list>\u001b[90m\u001b[23m, MEINFO \u001b[3m\u001b[90m<list>\u001b[90m\u001b[23m, MEND \u001b[3m\u001b[90m<int>\u001b[90m\u001b[23m, MLEN \u001b[3m\u001b[90m<int>\u001b[90m\u001b[23m,\n",
       "#   MSTART \u001b[3m\u001b[90m<int>\u001b[90m\u001b[23m, SVLEN \u001b[3m\u001b[90m<list>\u001b[90m\u001b[23m, SVTYPE \u001b[3m\u001b[90m<chr>\u001b[90m\u001b[23m, TSD \u001b[3m\u001b[90m<chr>\u001b[90m\u001b[23m, NS \u001b[3m\u001b[90m<int>\u001b[90m\u001b[23m, AN \u001b[3m\u001b[90m<int>\u001b[90m\u001b[23m,\n",
       "#   DP \u001b[3m\u001b[90m<int>\u001b[90m\u001b[23m, AA \u001b[3m\u001b[90m<chr>\u001b[90m\u001b[23m, VT \u001b[3m\u001b[90m<list>\u001b[90m\u001b[23m, EX_TARGET \u001b[3m\u001b[90m<lgl>\u001b[90m\u001b[23m, MULTI_ALLELIC \u001b[3m\u001b[90m<lgl>\u001b[90m\u001b[23m,\n",
       "#   OLD_VARIANT \u001b[3m\u001b[90m<chr>\u001b[90m\u001b[23m, partition_date_please_ignore \u001b[3m\u001b[90m<date>\u001b[90m\u001b[23m\u001b[39m"
      ]
     },
     "metadata": {},
     "output_type": "display_data"
    }
   ],
   "source": [
    "dbcon %>% tbl(\"1000_genomes_phase_3_variants_20150220\")"
   ]
  },
  {
   "cell_type": "code",
   "execution_count": 7,
   "metadata": {
    "scrolled": true
   },
   "outputs": [],
   "source": [
    "# this shows how the chromosomes are named in the database\n",
    "# dbcon %>% tbl(\"1000_genomes_phase_3_variants_20150220\") %>% select(reference_name)"
   ]
  },
  {
   "cell_type": "markdown",
   "metadata": {},
   "source": [
    "What do alternate bases look like?  This command is slow.  The answer does not seem right."
   ]
  },
  {
   "cell_type": "code",
   "execution_count": 8,
   "metadata": {},
   "outputs": [
    {
     "data": {
      "text/html": [
       "<table>\n",
       "<thead><tr><th scope=col>start_position</th><th scope=col>alternate_bases</th></tr></thead>\n",
       "<tbody>\n",
       "\t<tr><td>97245325                                                                                                                                            </td><td><span style=white-space:pre-wrap>&lt;CN0&gt;      , 1          , 0.000199681, 0          , 0          , 8e-04      , 0          , 0          </span></td></tr>\n",
       "\t<tr><td>97240180                                                                                              </td><td>G          , 3          , 0.000599042, 0          , 0          , 0          , 0.0043     , 0          </td></tr>\n",
       "</tbody>\n",
       "</table>\n"
      ],
      "text/latex": [
       "\\begin{tabular}{r|ll}\n",
       " start\\_position & alternate\\_bases\\\\\n",
       "\\hline\n",
       "\t 97245325                                                                                               & <CN0>      , 1          , 0.000199681, 0          , 0          , 8e-04      , 0          , 0          \\\\\n",
       "\t 97240180                                                                                               & G          , 3          , 0.000599042, 0          , 0          , 0          , 0.0043     , 0          \\\\\n",
       "\\end{tabular}\n"
      ],
      "text/markdown": [
       "\n",
       "| start_position | alternate_bases |\n",
       "|---|---|\n",
       "| 97245325                                                                                               | <CN0>      , 1          , 0.000199681, 0          , 0          , 8e-04      , 0          , 0           |\n",
       "| 97240180                                                                                               | G          , 3          , 0.000599042, 0          , 0          , 0          , 0.0043     , 0           |\n",
       "\n"
      ],
      "text/plain": [
       "  start_position\n",
       "1 97245325      \n",
       "2 97240180      \n",
       "  alternate_bases                                                                                       \n",
       "1 <CN0>      , 1          , 0.000199681, 0          , 0          , 8e-04      , 0          , 0          \n",
       "2 G          , 3          , 0.000599042, 0          , 0          , 0          , 0.0043     , 0          "
      ]
     },
     "metadata": {},
     "output_type": "display_data"
    }
   ],
   "source": [
    "(dbcon %>% tbl(\"1000_genomes_phase_3_variants_20150220\") %>% select(start_position, alternate_bases) %>% \n",
    "      as.data.frame(n=2))"
   ]
  },
  {
   "cell_type": "markdown",
   "metadata": {},
   "source": [
    "## Compose a function that queries calls for a specific locus"
   ]
  },
  {
   "cell_type": "code",
   "execution_count": 9,
   "metadata": {},
   "outputs": [],
   "source": [
    "query_loc = function(con, tablename=\"1000_genomes_phase_3_variants_20150220\", chr, pos) {\n",
    "  tmp = (con %>% tbl(tablename) %>% select(reference_name, start_position, names, call) %>%\n",
    "    filter(reference_name==chr, start_position==pos) %>% as.data.frame())\n",
    "  data.frame(id=as.character(tmp$call[[1]]$name), snp=as.character(tmp$names), \n",
    "             call=sapply(tmp$call[[1]]$genotype,sum))\n",
    "}"
   ]
  },
  {
   "cell_type": "code",
   "execution_count": 10,
   "metadata": {},
   "outputs": [
    {
     "data": {
      "text/html": [
       "<table>\n",
       "<thead><tr><th scope=col>id</th><th scope=col>snp</th><th scope=col>call</th></tr></thead>\n",
       "<tbody>\n",
       "\t<tr><td>HG00096    </td><td>rs549730151</td><td>0          </td></tr>\n",
       "\t<tr><td>HG00097    </td><td>rs549730151</td><td>0          </td></tr>\n",
       "\t<tr><td>HG00099    </td><td>rs549730151</td><td>0          </td></tr>\n",
       "\t<tr><td>HG00100    </td><td>rs549730151</td><td>0          </td></tr>\n",
       "\t<tr><td>HG00101    </td><td>rs549730151</td><td>0          </td></tr>\n",
       "\t<tr><td>HG00102    </td><td>rs549730151</td><td>0          </td></tr>\n",
       "</tbody>\n",
       "</table>\n"
      ],
      "text/latex": [
       "\\begin{tabular}{r|lll}\n",
       " id & snp & call\\\\\n",
       "\\hline\n",
       "\t HG00096     & rs549730151 & 0          \\\\\n",
       "\t HG00097     & rs549730151 & 0          \\\\\n",
       "\t HG00099     & rs549730151 & 0          \\\\\n",
       "\t HG00100     & rs549730151 & 0          \\\\\n",
       "\t HG00101     & rs549730151 & 0          \\\\\n",
       "\t HG00102     & rs549730151 & 0          \\\\\n",
       "\\end{tabular}\n"
      ],
      "text/markdown": [
       "\n",
       "| id | snp | call |\n",
       "|---|---|---|\n",
       "| HG00096     | rs549730151 | 0           |\n",
       "| HG00097     | rs549730151 | 0           |\n",
       "| HG00099     | rs549730151 | 0           |\n",
       "| HG00100     | rs549730151 | 0           |\n",
       "| HG00101     | rs549730151 | 0           |\n",
       "| HG00102     | rs549730151 | 0           |\n",
       "\n"
      ],
      "text/plain": [
       "  id      snp         call\n",
       "1 HG00096 rs549730151 0   \n",
       "2 HG00097 rs549730151 0   \n",
       "3 HG00099 rs549730151 0   \n",
       "4 HG00100 rs549730151 0   \n",
       "5 HG00101 rs549730151 0   \n",
       "6 HG00102 rs549730151 0   "
      ]
     },
     "metadata": {},
     "output_type": "display_data"
    },
    {
     "data": {
      "text/plain": [
       "\n",
       "   0    1 \n",
       "2502    2 "
      ]
     },
     "metadata": {},
     "output_type": "display_data"
    }
   ],
   "source": [
    "oneloc = query_loc(dbcon, \"1000_genomes_phase_3_variants_20150220\", chr=\"17\", pos=85101)\n",
    "head(oneloc)\n",
    "table(oneloc$call)"
   ]
  },
  {
   "cell_type": "markdown",
   "metadata": {},
   "source": [
    "In this cohort, two individuals are heterozygous for this SNP; all others are homozygous for the reference allele.\n",
    "\n",
    "## Check the details of the 'call' represented in BigQuery\n",
    "\n",
    "The point of this section is to show that a somewhat nonstandard data representation is used for the call information.  When we use \"table-to-data.frame\" patterns familiar with BigQuery, the `genotype` field comes back as a column of class \"list\"."
   ]
  },
  {
   "cell_type": "code",
   "execution_count": 11,
   "metadata": {},
   "outputs": [],
   "source": [
    "df1 = dbcon %>% tbl(\"1000_genomes_phase_3_variants_20150220\") %>% \n",
    "  filter(reference_name==\"17\", start_position == 85101) %>% \n",
    "  select(reference_name,start_position, names, call) %>% as.data.frame()"
   ]
  },
  {
   "cell_type": "code",
   "execution_count": 12,
   "metadata": {},
   "outputs": [
    {
     "data": {
      "text/html": [
       "<ol class=list-inline>\n",
       "\t<li>'reference_name'</li>\n",
       "\t<li>'start_position'</li>\n",
       "\t<li>'names'</li>\n",
       "\t<li>'call'</li>\n",
       "</ol>\n"
      ],
      "text/latex": [
       "\\begin{enumerate*}\n",
       "\\item 'reference\\_name'\n",
       "\\item 'start\\_position'\n",
       "\\item 'names'\n",
       "\\item 'call'\n",
       "\\end{enumerate*}\n"
      ],
      "text/markdown": [
       "1. 'reference_name'\n",
       "2. 'start_position'\n",
       "3. 'names'\n",
       "4. 'call'\n",
       "\n",
       "\n"
      ],
      "text/plain": [
       "[1] \"reference_name\" \"start_position\" \"names\"          \"call\"          "
      ]
     },
     "metadata": {},
     "output_type": "display_data"
    }
   ],
   "source": [
    "names(df1)"
   ]
  },
  {
   "cell_type": "code",
   "execution_count": 13,
   "metadata": {},
   "outputs": [
    {
     "data": {
      "text/html": [
       "<table>\n",
       "<thead><tr><th scope=col>name</th><th scope=col>genotype</th><th scope=col>phaseset</th><th scope=col>CN</th><th scope=col>CNL</th><th scope=col>CNP</th><th scope=col>CNQ</th><th scope=col>GP</th><th scope=col>GQ</th><th scope=col>FT</th><th scope=col>PL</th></tr></thead>\n",
       "<tbody>\n",
       "\t<tr><td>HG00096</td><td>0, 0   </td><td>*      </td><td>NA     </td><td>       </td><td>       </td><td>NA     </td><td>       </td><td>NA     </td><td>NA     </td><td>       </td></tr>\n",
       "\t<tr><td>HG00097</td><td>0, 0   </td><td>*      </td><td>NA     </td><td>       </td><td>       </td><td>NA     </td><td>       </td><td>NA     </td><td>NA     </td><td>       </td></tr>\n",
       "\t<tr><td>HG00099</td><td>0, 0   </td><td>*      </td><td>NA     </td><td>       </td><td>       </td><td>NA     </td><td>       </td><td>NA     </td><td>NA     </td><td>       </td></tr>\n",
       "\t<tr><td>HG00100</td><td>0, 0   </td><td>*      </td><td>NA     </td><td>       </td><td>       </td><td>NA     </td><td>       </td><td>NA     </td><td>NA     </td><td>       </td></tr>\n",
       "\t<tr><td>HG00101</td><td>0, 0   </td><td>*      </td><td>NA     </td><td>       </td><td>       </td><td>NA     </td><td>       </td><td>NA     </td><td>NA     </td><td>       </td></tr>\n",
       "\t<tr><td>HG00102</td><td>0, 0   </td><td>*      </td><td>NA     </td><td>       </td><td>       </td><td>NA     </td><td>       </td><td>NA     </td><td>NA     </td><td>       </td></tr>\n",
       "</tbody>\n",
       "</table>\n"
      ],
      "text/latex": [
       "\\begin{tabular}{r|lllllllllll}\n",
       " name & genotype & phaseset & CN & CNL & CNP & CNQ & GP & GQ & FT & PL\\\\\n",
       "\\hline\n",
       "\t HG00096 & 0, 0    & *       & NA      &         &         & NA      &         & NA      & NA      &        \\\\\n",
       "\t HG00097 & 0, 0    & *       & NA      &         &         & NA      &         & NA      & NA      &        \\\\\n",
       "\t HG00099 & 0, 0    & *       & NA      &         &         & NA      &         & NA      & NA      &        \\\\\n",
       "\t HG00100 & 0, 0    & *       & NA      &         &         & NA      &         & NA      & NA      &        \\\\\n",
       "\t HG00101 & 0, 0    & *       & NA      &         &         & NA      &         & NA      & NA      &        \\\\\n",
       "\t HG00102 & 0, 0    & *       & NA      &         &         & NA      &         & NA      & NA      &        \\\\\n",
       "\\end{tabular}\n"
      ],
      "text/markdown": [
       "\n",
       "| name | genotype | phaseset | CN | CNL | CNP | CNQ | GP | GQ | FT | PL |\n",
       "|---|---|---|---|---|---|---|---|---|---|---|\n",
       "| HG00096 | 0, 0    | *       | NA      |         |         | NA      |         | NA      | NA      |         |\n",
       "| HG00097 | 0, 0    | *       | NA      |         |         | NA      |         | NA      | NA      |         |\n",
       "| HG00099 | 0, 0    | *       | NA      |         |         | NA      |         | NA      | NA      |         |\n",
       "| HG00100 | 0, 0    | *       | NA      |         |         | NA      |         | NA      | NA      |         |\n",
       "| HG00101 | 0, 0    | *       | NA      |         |         | NA      |         | NA      | NA      |         |\n",
       "| HG00102 | 0, 0    | *       | NA      |         |         | NA      |         | NA      | NA      |         |\n",
       "\n"
      ],
      "text/plain": [
       "  name    genotype phaseset CN CNL CNP CNQ GP GQ FT PL\n",
       "1 HG00096 0, 0     *        NA         NA     NA NA   \n",
       "2 HG00097 0, 0     *        NA         NA     NA NA   \n",
       "3 HG00099 0, 0     *        NA         NA     NA NA   \n",
       "4 HG00100 0, 0     *        NA         NA     NA NA   \n",
       "5 HG00101 0, 0     *        NA         NA     NA NA   \n",
       "6 HG00102 0, 0     *        NA         NA     NA NA   "
      ]
     },
     "metadata": {},
     "output_type": "display_data"
    }
   ],
   "source": [
    "library(tibble)\n",
    "as_tibble(df1$call[[1]]) %>% head()"
   ]
  },
  {
   "cell_type": "markdown",
   "metadata": {},
   "source": [
    "## Examine the simons diversity project variants"
   ]
  },
  {
   "cell_type": "code",
   "execution_count": 14,
   "metadata": {},
   "outputs": [
    {
     "data": {
      "text/plain": [
       "\u001b[90m# Source:   lazy query [?? x 29]\u001b[39m\n",
       "\u001b[90m# Database: BigQueryConnection\u001b[39m\n",
       "  reference_name start_position end_position reference_bases alternate_bases\n",
       "  \u001b[3m\u001b[90m<chr>\u001b[39m\u001b[23m                   \u001b[3m\u001b[90m<int>\u001b[39m\u001b[23m        \u001b[3m\u001b[90m<int>\u001b[39m\u001b[23m \u001b[3m\u001b[90m<chr>\u001b[39m\u001b[23m           \u001b[3m\u001b[90m<list>\u001b[39m\u001b[23m         \n",
       "\u001b[90m1\u001b[39m 1                    24\u001b[4m2\u001b[24m\u001b[4m2\u001b[24m\u001b[4m8\u001b[24m721     24\u001b[4m2\u001b[24m\u001b[4m2\u001b[24m\u001b[4m8\u001b[24m722 A               \u001b[90m<tibble [1 × 5\u001b[0m…\n",
       "\u001b[90m2\u001b[39m 1                    24\u001b[4m2\u001b[24m\u001b[4m2\u001b[24m\u001b[4m8\u001b[24m721     24\u001b[4m2\u001b[24m\u001b[4m2\u001b[24m\u001b[4m8\u001b[24m722 A               \u001b[90m<tibble [1 × 5\u001b[0m…\n",
       "\u001b[90m3\u001b[39m 1                    24\u001b[4m2\u001b[24m\u001b[4m2\u001b[24m\u001b[4m8\u001b[24m721     24\u001b[4m2\u001b[24m\u001b[4m2\u001b[24m\u001b[4m8\u001b[24m722 A               \u001b[90m<tibble [1 × 5\u001b[0m…\n",
       "\u001b[90m# … with 24 more variables: names \u001b[3m\u001b[90m<list>\u001b[90m\u001b[23m, quality \u001b[3m\u001b[90m<dbl>\u001b[90m\u001b[23m, filter \u001b[3m\u001b[90m<list>\u001b[90m\u001b[23m,\n",
       "#   call \u001b[3m\u001b[90m<list>\u001b[90m\u001b[23m, AN \u001b[3m\u001b[90m<int>\u001b[90m\u001b[23m, BaseCounts \u001b[3m\u001b[90m<list>\u001b[90m\u001b[23m, BaseQRankSum \u001b[3m\u001b[90m<dbl>\u001b[90m\u001b[23m, DB \u001b[3m\u001b[90m<lgl>\u001b[90m\u001b[23m,\n",
       "#   DP \u001b[3m\u001b[90m<int>\u001b[90m\u001b[23m, DS \u001b[3m\u001b[90m<lgl>\u001b[90m\u001b[23m, Dels \u001b[3m\u001b[90m<dbl>\u001b[90m\u001b[23m, FS \u001b[3m\u001b[90m<dbl>\u001b[90m\u001b[23m, GC \u001b[3m\u001b[90m<dbl>\u001b[90m\u001b[23m, HaplotypeScore \u001b[3m\u001b[90m<dbl>\u001b[90m\u001b[23m,\n",
       "#   InbreedingCoeff \u001b[3m\u001b[90m<dbl>\u001b[90m\u001b[23m, MQ \u001b[3m\u001b[90m<dbl>\u001b[90m\u001b[23m, MQ0 \u001b[3m\u001b[90m<int>\u001b[90m\u001b[23m, MQRankSum \u001b[3m\u001b[90m<dbl>\u001b[90m\u001b[23m, QD \u001b[3m\u001b[90m<dbl>\u001b[90m\u001b[23m,\n",
       "#   RPA \u001b[3m\u001b[90m<list>\u001b[90m\u001b[23m, RU \u001b[3m\u001b[90m<chr>\u001b[90m\u001b[23m, ReadPosRankSum \u001b[3m\u001b[90m<dbl>\u001b[90m\u001b[23m, STR \u001b[3m\u001b[90m<lgl>\u001b[90m\u001b[23m,\n",
       "#   partition_date_please_ignore \u001b[3m\u001b[90m<date>\u001b[90m\u001b[23m\u001b[39m"
      ]
     },
     "metadata": {},
     "output_type": "display_data"
    }
   ],
   "source": [
    "dbcon %>% tbl(\"simons_genome_diversity_project_sample_variants\") %>% \n",
    "       filter(start_position==24228721)"
   ]
  },
  {
   "cell_type": "code",
   "execution_count": 15,
   "metadata": {},
   "outputs": [],
   "source": [
    "mydf = dbcon %>% tbl(\"simons_genome_diversity_project_sample_variants\") %>% \n",
    "       filter(start_position==24228721) %>% select(call) %>% as.data.frame()\n"
   ]
  },
  {
   "cell_type": "code",
   "execution_count": 16,
   "metadata": {},
   "outputs": [
    {
     "data": {
      "text/html": [
       "<ol class=list-inline>\n",
       "\t<li>3</li>\n",
       "\t<li>1</li>\n",
       "</ol>\n"
      ],
      "text/latex": [
       "\\begin{enumerate*}\n",
       "\\item 3\n",
       "\\item 1\n",
       "\\end{enumerate*}\n"
      ],
      "text/markdown": [
       "1. 3\n",
       "2. 1\n",
       "\n",
       "\n"
      ],
      "text/plain": [
       "[1] 3 1"
      ]
     },
     "metadata": {},
     "output_type": "display_data"
    }
   ],
   "source": [
    "dim(mydf)"
   ]
  },
  {
   "cell_type": "code",
   "execution_count": 17,
   "metadata": {},
   "outputs": [],
   "source": [
    "#str(mydf[1,])"
   ]
  },
  {
   "cell_type": "code",
   "execution_count": 18,
   "metadata": {},
   "outputs": [],
   "source": [
    "chk = dbcon %>% tbl(\"simons_genome_diversity_project_sample_variants\") %>% \n",
    "       filter(start_position>=24228721 & start_position <=24230000)"
   ]
  },
  {
   "cell_type": "code",
   "execution_count": 19,
   "metadata": {},
   "outputs": [
    {
     "data": {
      "text/plain": [
       "\u001b[90m# Source:   lazy query [?? x 29]\u001b[39m\n",
       "\u001b[90m# Database: BigQueryConnection\u001b[39m\n",
       "   reference_name start_position end_position reference_bases alternate_bases\n",
       "   \u001b[3m\u001b[90m<chr>\u001b[39m\u001b[23m                   \u001b[3m\u001b[90m<int>\u001b[39m\u001b[23m        \u001b[3m\u001b[90m<int>\u001b[39m\u001b[23m \u001b[3m\u001b[90m<chr>\u001b[39m\u001b[23m           \u001b[3m\u001b[90m<list>\u001b[39m\u001b[23m         \n",
       "\u001b[90m 1\u001b[39m 1                    24\u001b[4m2\u001b[24m\u001b[4m2\u001b[24m\u001b[4m8\u001b[24m721     24\u001b[4m2\u001b[24m\u001b[4m2\u001b[24m\u001b[4m8\u001b[24m722 A               \u001b[90m<tibble [1 × 5\u001b[0m…\n",
       "\u001b[90m 2\u001b[39m 1                    24\u001b[4m2\u001b[24m\u001b[4m2\u001b[24m\u001b[4m8\u001b[24m721     24\u001b[4m2\u001b[24m\u001b[4m2\u001b[24m\u001b[4m8\u001b[24m722 A               \u001b[90m<tibble [1 × 5\u001b[0m…\n",
       "\u001b[90m 3\u001b[39m 1                    24\u001b[4m2\u001b[24m\u001b[4m2\u001b[24m\u001b[4m9\u001b[24m105     24\u001b[4m2\u001b[24m\u001b[4m2\u001b[24m\u001b[4m9\u001b[24m106 A               \u001b[90m<tibble [1 × 5\u001b[0m…\n",
       "\u001b[90m 4\u001b[39m 1                    24\u001b[4m2\u001b[24m\u001b[4m2\u001b[24m\u001b[4m9\u001b[24m275     24\u001b[4m2\u001b[24m\u001b[4m2\u001b[24m\u001b[4m9\u001b[24m276 T               \u001b[90m<tibble [1 × 5\u001b[0m…\n",
       "\u001b[90m 5\u001b[39m 1                    24\u001b[4m2\u001b[24m\u001b[4m2\u001b[24m\u001b[4m8\u001b[24m761     24\u001b[4m2\u001b[24m\u001b[4m2\u001b[24m\u001b[4m8\u001b[24m762 G               \u001b[90m<tibble [1 × 5\u001b[0m…\n",
       "\u001b[90m 6\u001b[39m 1                    24\u001b[4m2\u001b[24m\u001b[4m2\u001b[24m\u001b[4m9\u001b[24m412     24\u001b[4m2\u001b[24m\u001b[4m2\u001b[24m\u001b[4m9\u001b[24m413 G               \u001b[90m<tibble [1 × 5\u001b[0m…\n",
       "\u001b[90m 7\u001b[39m 1                    24\u001b[4m2\u001b[24m\u001b[4m2\u001b[24m\u001b[4m9\u001b[24m824     24\u001b[4m2\u001b[24m\u001b[4m2\u001b[24m\u001b[4m9\u001b[24m825 G               \u001b[90m<tibble [1 × 5\u001b[0m…\n",
       "\u001b[90m 8\u001b[39m 1                    24\u001b[4m2\u001b[24m\u001b[4m2\u001b[24m\u001b[4m9\u001b[24m031     24\u001b[4m2\u001b[24m\u001b[4m2\u001b[24m\u001b[4m9\u001b[24m032 C               \u001b[90m<tibble [1 × 5\u001b[0m…\n",
       "\u001b[90m 9\u001b[39m 1                    24\u001b[4m2\u001b[24m\u001b[4m2\u001b[24m\u001b[4m8\u001b[24m862     24\u001b[4m2\u001b[24m\u001b[4m2\u001b[24m\u001b[4m8\u001b[24m863 G               \u001b[90m<tibble [1 × 5\u001b[0m…\n",
       "\u001b[90m10\u001b[39m 1                    24\u001b[4m2\u001b[24m\u001b[4m2\u001b[24m\u001b[4m9\u001b[24m685     24\u001b[4m2\u001b[24m\u001b[4m2\u001b[24m\u001b[4m9\u001b[24m686 G               \u001b[90m<tibble [1 × 5\u001b[0m…\n",
       "\u001b[90m# … with more rows, and 24 more variables: names \u001b[3m\u001b[90m<list>\u001b[90m\u001b[23m, quality \u001b[3m\u001b[90m<dbl>\u001b[90m\u001b[23m,\n",
       "#   filter \u001b[3m\u001b[90m<list>\u001b[90m\u001b[23m, call \u001b[3m\u001b[90m<list>\u001b[90m\u001b[23m, AN \u001b[3m\u001b[90m<int>\u001b[90m\u001b[23m, BaseCounts \u001b[3m\u001b[90m<list>\u001b[90m\u001b[23m,\n",
       "#   BaseQRankSum \u001b[3m\u001b[90m<dbl>\u001b[90m\u001b[23m, DB \u001b[3m\u001b[90m<lgl>\u001b[90m\u001b[23m, DP \u001b[3m\u001b[90m<int>\u001b[90m\u001b[23m, DS \u001b[3m\u001b[90m<lgl>\u001b[90m\u001b[23m, Dels \u001b[3m\u001b[90m<dbl>\u001b[90m\u001b[23m, FS \u001b[3m\u001b[90m<dbl>\u001b[90m\u001b[23m,\n",
       "#   GC \u001b[3m\u001b[90m<dbl>\u001b[90m\u001b[23m, HaplotypeScore \u001b[3m\u001b[90m<dbl>\u001b[90m\u001b[23m, InbreedingCoeff \u001b[3m\u001b[90m<dbl>\u001b[90m\u001b[23m, MQ \u001b[3m\u001b[90m<dbl>\u001b[90m\u001b[23m, MQ0 \u001b[3m\u001b[90m<int>\u001b[90m\u001b[23m,\n",
       "#   MQRankSum \u001b[3m\u001b[90m<dbl>\u001b[90m\u001b[23m, QD \u001b[3m\u001b[90m<dbl>\u001b[90m\u001b[23m, RPA \u001b[3m\u001b[90m<list>\u001b[90m\u001b[23m, RU \u001b[3m\u001b[90m<chr>\u001b[90m\u001b[23m, ReadPosRankSum \u001b[3m\u001b[90m<dbl>\u001b[90m\u001b[23m,\n",
       "#   STR \u001b[3m\u001b[90m<lgl>\u001b[90m\u001b[23m, partition_date_please_ignore \u001b[3m\u001b[90m<date>\u001b[90m\u001b[23m\u001b[39m"
      ]
     },
     "metadata": {},
     "output_type": "display_data"
    }
   ],
   "source": [
    "chk"
   ]
  },
  {
   "cell_type": "code",
   "execution_count": 20,
   "metadata": {},
   "outputs": [
    {
     "data": {
      "text/html": [
       "<ol class=list-inline>\n",
       "\t<li>2</li>\n",
       "\t<li>1</li>\n",
       "</ol>\n"
      ],
      "text/latex": [
       "\\begin{enumerate*}\n",
       "\\item 2\n",
       "\\item 1\n",
       "\\end{enumerate*}\n"
      ],
      "text/markdown": [
       "1. 2\n",
       "2. 1\n",
       "\n",
       "\n"
      ],
      "text/plain": [
       "[1] 2 1"
      ]
     },
     "metadata": {},
     "output_type": "display_data"
    }
   ],
   "source": [
    "dim(chk %>% select(call) %>% as.data.frame(n=2))"
   ]
  },
  {
   "cell_type": "code",
   "execution_count": 21,
   "metadata": {},
   "outputs": [
    {
     "data": {
      "text/html": [
       "<ol class=list-inline>\n",
       "\t<li>'name'</li>\n",
       "\t<li>'genotype'</li>\n",
       "\t<li>'phaseset'</li>\n",
       "\t<li>'AD'</li>\n",
       "\t<li>'DP'</li>\n",
       "\t<li>'GQ'</li>\n",
       "\t<li>'PL'</li>\n",
       "\t<li>'FL'</li>\n",
       "\t<li>'quality'</li>\n",
       "</ol>\n"
      ],
      "text/latex": [
       "\\begin{enumerate*}\n",
       "\\item 'name'\n",
       "\\item 'genotype'\n",
       "\\item 'phaseset'\n",
       "\\item 'AD'\n",
       "\\item 'DP'\n",
       "\\item 'GQ'\n",
       "\\item 'PL'\n",
       "\\item 'FL'\n",
       "\\item 'quality'\n",
       "\\end{enumerate*}\n"
      ],
      "text/markdown": [
       "1. 'name'\n",
       "2. 'genotype'\n",
       "3. 'phaseset'\n",
       "4. 'AD'\n",
       "5. 'DP'\n",
       "6. 'GQ'\n",
       "7. 'PL'\n",
       "8. 'FL'\n",
       "9. 'quality'\n",
       "\n",
       "\n"
      ],
      "text/plain": [
       "[1] \"name\"     \"genotype\" \"phaseset\" \"AD\"       \"DP\"       \"GQ\"       \"PL\"      \n",
       "[8] \"FL\"       \"quality\" "
      ]
     },
     "metadata": {},
     "output_type": "display_data"
    }
   ],
   "source": [
    "names(mydf$call[[1]])"
   ]
  },
  {
   "cell_type": "code",
   "execution_count": 22,
   "metadata": {},
   "outputs": [
    {
     "data": {
      "text/html": [
       "<table>\n",
       "<thead><tr><th scope=col>name</th><th scope=col>genotype</th><th scope=col>phaseset</th><th scope=col>AD</th><th scope=col>DP</th><th scope=col>GQ</th><th scope=col>PL</th><th scope=col>FL</th><th scope=col>quality</th></tr></thead>\n",
       "<tbody>\n",
       "\t<tr><td>LP6005442-DNA_A04</td><td>1, 1             </td><td>NA               </td><td>0, 1             </td><td>1                </td><td>3                </td><td>38, 3, 0         </td><td>1                </td><td>39.77            </td></tr>\n",
       "\t<tr><td>LP6005441-DNA_D09</td><td>1, 1             </td><td>NA               </td><td>0, 1             </td><td>1                </td><td>3                </td><td>38, 3, 0         </td><td>0                </td><td>39.77            </td></tr>\n",
       "\t<tr><td>LP6005443-DNA_D02</td><td>1, 1             </td><td>NA               </td><td>0, 1             </td><td>1                </td><td>3                </td><td>34, 3, 0         </td><td>5                </td><td>35.77            </td></tr>\n",
       "\t<tr><td>LP6005443-DNA_G07</td><td>1, 1             </td><td>NA               </td><td>0, 1             </td><td>1                </td><td>3                </td><td>23, 3, 0         </td><td>7                </td><td>24.79            </td></tr>\n",
       "\t<tr><td>LP6005677-DNA_D03</td><td>1, 1             </td><td>NA               </td><td>0, 1             </td><td>1                </td><td>3                </td><td>38, 3, 0         </td><td>2                </td><td>39.77            </td></tr>\n",
       "\t<tr><td>LP6005441-DNA_F07</td><td>1, 1             </td><td>NA               </td><td>0, 1             </td><td>1                </td><td>3                </td><td>38, 3, 0         </td><td>3                </td><td>39.77            </td></tr>\n",
       "</tbody>\n",
       "</table>\n"
      ],
      "text/latex": [
       "\\begin{tabular}{r|lllllllll}\n",
       " name & genotype & phaseset & AD & DP & GQ & PL & FL & quality\\\\\n",
       "\\hline\n",
       "\t LP6005442-DNA\\_A04 & 1, 1                & NA                  & 0, 1                & 1                   & 3                   & 38, 3, 0            & 1                   & 39.77              \\\\\n",
       "\t LP6005441-DNA\\_D09 & 1, 1                & NA                  & 0, 1                & 1                   & 3                   & 38, 3, 0            & 0                   & 39.77              \\\\\n",
       "\t LP6005443-DNA\\_D02 & 1, 1                & NA                  & 0, 1                & 1                   & 3                   & 34, 3, 0            & 5                   & 35.77              \\\\\n",
       "\t LP6005443-DNA\\_G07 & 1, 1                & NA                  & 0, 1                & 1                   & 3                   & 23, 3, 0            & 7                   & 24.79              \\\\\n",
       "\t LP6005677-DNA\\_D03 & 1, 1                & NA                  & 0, 1                & 1                   & 3                   & 38, 3, 0            & 2                   & 39.77              \\\\\n",
       "\t LP6005441-DNA\\_F07 & 1, 1                & NA                  & 0, 1                & 1                   & 3                   & 38, 3, 0            & 3                   & 39.77              \\\\\n",
       "\\end{tabular}\n"
      ],
      "text/markdown": [
       "\n",
       "| name | genotype | phaseset | AD | DP | GQ | PL | FL | quality |\n",
       "|---|---|---|---|---|---|---|---|---|\n",
       "| LP6005442-DNA_A04 | 1, 1              | NA                | 0, 1              | 1                 | 3                 | 38, 3, 0          | 1                 | 39.77             |\n",
       "| LP6005441-DNA_D09 | 1, 1              | NA                | 0, 1              | 1                 | 3                 | 38, 3, 0          | 0                 | 39.77             |\n",
       "| LP6005443-DNA_D02 | 1, 1              | NA                | 0, 1              | 1                 | 3                 | 34, 3, 0          | 5                 | 35.77             |\n",
       "| LP6005443-DNA_G07 | 1, 1              | NA                | 0, 1              | 1                 | 3                 | 23, 3, 0          | 7                 | 24.79             |\n",
       "| LP6005677-DNA_D03 | 1, 1              | NA                | 0, 1              | 1                 | 3                 | 38, 3, 0          | 2                 | 39.77             |\n",
       "| LP6005441-DNA_F07 | 1, 1              | NA                | 0, 1              | 1                 | 3                 | 38, 3, 0          | 3                 | 39.77             |\n",
       "\n"
      ],
      "text/plain": [
       "  name              genotype phaseset AD   DP GQ PL       FL quality\n",
       "1 LP6005442-DNA_A04 1, 1     NA       0, 1 1  3  38, 3, 0 1  39.77  \n",
       "2 LP6005441-DNA_D09 1, 1     NA       0, 1 1  3  38, 3, 0 0  39.77  \n",
       "3 LP6005443-DNA_D02 1, 1     NA       0, 1 1  3  34, 3, 0 5  35.77  \n",
       "4 LP6005443-DNA_G07 1, 1     NA       0, 1 1  3  23, 3, 0 7  24.79  \n",
       "5 LP6005677-DNA_D03 1, 1     NA       0, 1 1  3  38, 3, 0 2  39.77  \n",
       "6 LP6005441-DNA_F07 1, 1     NA       0, 1 1  3  38, 3, 0 3  39.77  "
      ]
     },
     "metadata": {},
     "output_type": "display_data"
    }
   ],
   "source": [
    "head(mydf$call[[1]])"
   ]
  },
  {
   "cell_type": "code",
   "execution_count": 23,
   "metadata": {},
   "outputs": [
    {
     "data": {
      "text/plain": [
       "   Min. 1st Qu.  Median    Mean 3rd Qu.    Max. \n",
       "  1.000   1.000   1.000   1.253   1.000   3.000 "
      ]
     },
     "metadata": {},
     "output_type": "display_data"
    }
   ],
   "source": [
    "summary(mydf$call[[1]]$DP)"
   ]
  },
  {
   "cell_type": "markdown",
   "metadata": {},
   "source": [
    "# Provenance"
   ]
  },
  {
   "cell_type": "code",
   "execution_count": 24,
   "metadata": {},
   "outputs": [
    {
     "data": {
      "text/plain": [
       "─ Session info ───────────────────────────────────────────────────────────────\n",
       " setting  value                       \n",
       " version  R version 3.5.2 (2018-12-20)\n",
       " os       Debian GNU/Linux 9 (stretch)\n",
       " system   x86_64, linux-gnu           \n",
       " ui       X11                         \n",
       " language (EN)                        \n",
       " collate  en_US.UTF-8                 \n",
       " ctype    en_US.UTF-8                 \n",
       " tz       Etc/UTC                     \n",
       " date     2019-04-10                  \n",
       "\n",
       "─ Packages ───────────────────────────────────────────────────────────────────\n",
       " package     * version     date       lib\n",
       " askpass       1.1         2019-01-13 [2]\n",
       " assertthat    0.2.1       2019-03-21 [1]\n",
       " backports     1.1.3       2018-12-14 [2]\n",
       " base64enc     0.1-3       2015-07-28 [2]\n",
       " bigrquery   * 1.1.0       2019-02-05 [2]\n",
       " bit           1.1-14      2018-05-29 [2]\n",
       " bit64         0.9-7       2017-05-08 [2]\n",
       " callr         3.2.0       2019-03-15 [2]\n",
       " cli           1.1.0       2019-03-19 [1]\n",
       " colorspace    1.4-1       2019-03-18 [1]\n",
       " crayon        1.3.4       2017-09-16 [2]\n",
       " curl          3.3         2019-01-10 [2]\n",
       " DBI           1.0.0       2018-05-02 [2]\n",
       " dbplyr        1.3.0       2019-01-09 [2]\n",
       " desc          1.2.0       2018-05-01 [2]\n",
       " devtools      2.0.1       2018-10-26 [2]\n",
       " digest        0.6.18      2018-10-10 [2]\n",
       " dplyr       * 0.8.0.1     2019-02-15 [2]\n",
       " evaluate      0.13        2019-02-12 [2]\n",
       " fansi         0.4.0       2018-10-05 [2]\n",
       " fs            1.2.6       2018-08-23 [2]\n",
       " ggplot2     * 3.1.0       2018-10-25 [2]\n",
       " glue          1.3.1       2019-03-12 [2]\n",
       " gtable        0.3.0       2019-03-25 [1]\n",
       " htmltools     0.3.6       2017-04-28 [2]\n",
       " httr          1.4.0       2018-12-11 [2]\n",
       " IRdisplay     0.7.0       2018-11-29 [2]\n",
       " IRkernel      0.8.15.9000 2019-03-18 [2]\n",
       " jsonlite      1.6         2018-12-07 [2]\n",
       " lazyeval      0.2.2       2019-03-15 [2]\n",
       " magrittr      1.5         2014-11-22 [2]\n",
       " memoise       1.1.0       2017-04-21 [2]\n",
       " munsell       0.5.0       2018-06-12 [2]\n",
       " openssl       1.3         2019-03-22 [1]\n",
       " pbdZMQ        0.3-3       2018-05-05 [2]\n",
       " pillar        1.3.1       2018-12-15 [2]\n",
       " pkgbuild      1.0.2       2018-10-16 [2]\n",
       " pkgconfig     2.0.2       2018-08-16 [2]\n",
       " pkgload       1.0.2       2018-10-29 [2]\n",
       " plyr          1.8.4       2016-06-08 [2]\n",
       " prettyunits   1.0.2       2015-07-13 [2]\n",
       " processx      3.3.0       2019-03-10 [2]\n",
       " ps            1.3.0       2018-12-21 [2]\n",
       " purrr         0.3.2       2019-03-15 [2]\n",
       " R6            2.4.0       2019-02-14 [2]\n",
       " Rcpp          1.0.1       2019-03-17 [2]\n",
       " remotes       2.0.2       2018-10-30 [2]\n",
       " repr          0.19.2      2019-02-06 [2]\n",
       " rlang         0.3.3       2019-03-29 [1]\n",
       " Ronaldo       0.1.0       2019-03-18 [2]\n",
       " rprojroot     1.3-2       2018-01-03 [2]\n",
       " scales        1.0.0       2018-08-09 [2]\n",
       " sessioninfo   1.1.1       2018-11-05 [2]\n",
       " skimr       * 1.0.5       2019-02-25 [1]\n",
       " testthat      2.0.1       2018-10-13 [1]\n",
       " tibble      * 2.1.1       2019-03-16 [2]\n",
       " tidyselect    0.2.5       2018-10-11 [2]\n",
       " usethis       1.4.0       2018-08-14 [2]\n",
       " utf8          1.1.4       2018-05-24 [2]\n",
       " uuid          0.1-2       2015-07-28 [2]\n",
       " withr         2.1.2       2018-03-15 [2]\n",
       " source                                \n",
       " CRAN (R 3.5.2)                        \n",
       " CRAN (R 3.5.2)                        \n",
       " CRAN (R 3.5.2)                        \n",
       " CRAN (R 3.5.2)                        \n",
       " CRAN (R 3.5.2)                        \n",
       " CRAN (R 3.5.2)                        \n",
       " CRAN (R 3.5.2)                        \n",
       " CRAN (R 3.5.2)                        \n",
       " CRAN (R 3.5.2)                        \n",
       " CRAN (R 3.5.2)                        \n",
       " CRAN (R 3.5.2)                        \n",
       " CRAN (R 3.5.2)                        \n",
       " CRAN (R 3.5.2)                        \n",
       " CRAN (R 3.5.2)                        \n",
       " CRAN (R 3.5.2)                        \n",
       " CRAN (R 3.5.2)                        \n",
       " CRAN (R 3.5.2)                        \n",
       " CRAN (R 3.5.2)                        \n",
       " CRAN (R 3.5.2)                        \n",
       " CRAN (R 3.5.2)                        \n",
       " CRAN (R 3.5.2)                        \n",
       " CRAN (R 3.5.2)                        \n",
       " CRAN (R 3.5.2)                        \n",
       " CRAN (R 3.5.2)                        \n",
       " CRAN (R 3.5.2)                        \n",
       " CRAN (R 3.5.2)                        \n",
       " CRAN (R 3.5.2)                        \n",
       " Github (IRkernel/IRkernel@dbe3a10)    \n",
       " CRAN (R 3.5.2)                        \n",
       " CRAN (R 3.5.2)                        \n",
       " CRAN (R 3.5.2)                        \n",
       " CRAN (R 3.5.2)                        \n",
       " CRAN (R 3.5.2)                        \n",
       " CRAN (R 3.5.2)                        \n",
       " CRAN (R 3.5.2)                        \n",
       " CRAN (R 3.5.2)                        \n",
       " CRAN (R 3.5.2)                        \n",
       " CRAN (R 3.5.2)                        \n",
       " CRAN (R 3.5.2)                        \n",
       " CRAN (R 3.5.2)                        \n",
       " CRAN (R 3.5.2)                        \n",
       " CRAN (R 3.5.2)                        \n",
       " CRAN (R 3.5.2)                        \n",
       " CRAN (R 3.5.2)                        \n",
       " CRAN (R 3.5.2)                        \n",
       " CRAN (R 3.5.2)                        \n",
       " CRAN (R 3.5.2)                        \n",
       " CRAN (R 3.5.2)                        \n",
       " CRAN (R 3.5.2)                        \n",
       " Github (DataBiosphere/Ronaldo@426459f)\n",
       " CRAN (R 3.5.2)                        \n",
       " CRAN (R 3.5.2)                        \n",
       " CRAN (R 3.5.2)                        \n",
       " CRAN (R 3.5.2)                        \n",
       " CRAN (R 3.5.2)                        \n",
       " CRAN (R 3.5.2)                        \n",
       " CRAN (R 3.5.2)                        \n",
       " CRAN (R 3.5.2)                        \n",
       " CRAN (R 3.5.2)                        \n",
       " CRAN (R 3.5.2)                        \n",
       " CRAN (R 3.5.2)                        \n",
       "\n",
       "[1] /home/jupyter-user/.rpackages\n",
       "[2] /usr/local/lib/R/site-library\n",
       "[3] /usr/lib/R/site-library\n",
       "[4] /usr/lib/R/library"
      ]
     },
     "metadata": {},
     "output_type": "display_data"
    }
   ],
   "source": [
    "devtools::session_info()"
   ]
  }
 ],
 "metadata": {
  "kernelspec": {
   "display_name": "R",
   "language": "R",
   "name": "ir"
  },
  "language_info": {
   "codemirror_mode": "r",
   "file_extension": ".r",
   "mimetype": "text/x-r-source",
   "name": "R",
   "pygments_lexer": "r",
   "version": "3.5.2"
  },
  "toc": {
   "base_numbering": 1,
   "nav_menu": {},
   "number_sections": true,
   "sideBar": true,
   "skip_h1_title": false,
   "title_cell": "Table of Contents",
   "title_sidebar": "Contents",
   "toc_cell": false,
   "toc_position": {
    "height": "calc(100% - 180px)",
    "left": "10px",
    "top": "150px",
    "width": "311.516px"
   },
   "toc_section_display": true,
   "toc_window_display": true
  }
 },
 "nbformat": 4,
 "nbformat_minor": 2
}
